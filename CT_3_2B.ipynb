{
 "cells": [
  {
   "cell_type": "code",
   "execution_count": 1178,
   "metadata": {},
   "outputs": [],
   "source": [
    "from math import *\n",
    "import numpy as np\n",
    "from numpy.linalg import eig\n",
    "from scipy.integrate import odeint\n",
    "import matplotlib.pyplot as plt"
   ]
  },
  {
   "cell_type": "code",
   "execution_count": 1179,
   "metadata": {},
   "outputs": [],
   "source": [
    "mu, k = 3, 45"
   ]
  },
  {
   "cell_type": "code",
   "execution_count": 1180,
   "metadata": {},
   "outputs": [],
   "source": [
    "kp, kd = 50000,50000"
   ]
  },
  {
   "cell_type": "code",
   "execution_count": 1181,
   "metadata": {},
   "outputs": [],
   "source": [
    "x = np.array([0, 0.1, 10])\n",
    "y = np.array([0, 1, 1])"
   ]
  },
  {
   "cell_type": "code",
   "execution_count": 1182,
   "metadata": {},
   "outputs": [],
   "source": [
    "def StepFunction(t):\n",
    "    return 0 if t < 0.1 else 1"
   ]
  },
  {
   "cell_type": "code",
   "execution_count": 1183,
   "metadata": {},
   "outputs": [],
   "source": [
    "x0 = np.zeros((2))\n",
    "time = np.linspace(0, 10, 100)"
   ]
  },
  {
   "cell_type": "code",
   "execution_count": 1184,
   "metadata": {},
   "outputs": [],
   "source": [
    "#using control\n",
    "def controlled_step_osc(x,t):\n",
    "    x_desired = stepFunction(t)\n",
    "    x_dot_desired = 0\n",
    "    \n",
    "    error, e = x_desired - x[1]\n",
    "    error_dot = x_dot_desired - x[0]\n",
    "    \n",
    "    u = kp* error + kd * error_dot\n",
    "    return np.array([(u - mu*x[0] - k*x[1]), x[0]])\n"
   ]
  },
  {
   "cell_type": "code",
   "execution_count": 1185,
   "metadata": {},
   "outputs": [],
   "source": [
    "solution_w_c_step = {\"controlled damped oscillator with step\": odeint(controlled_step_osc, x0, time)}"
   ]
  },
  {
   "cell_type": "code",
   "execution_count": 1186,
   "metadata": {},
   "outputs": [
    {
     "data": {
      "image/png": "[encoded data removed]",
      "text/plain": [
       "<Figure size 432x288 with 1 Axes>"
      ]
     },
     "metadata": {
      "needs_background": "light"
     },
     "output_type": "display_data"
    }
   ],
   "source": [
    "#plot with control\n",
    "plt.subplot(1, 1, 1)\n",
    "plt.ylim(0, 2), \n",
    "plt.plot(time, solution_w_c_step[\"controlled damped oscillator with step\"])\n",
    "plt.step(x,y)\n",
    "plt.xlabel('time')\n",
    "plt.ylabel('x(t)')\n",
    "plt.show()"
   ]
  }
 ],
 "metadata": {
  "kernelspec": {
   "display_name": "Python 3",
   "language": "python",
   "name": "python3"
  },
  "language_info": {
   "codemirror_mode": {
    "name": "ipython",
    "version": 3
   },
   "file_extension": ".py",
   "mimetype": "text/x-python",
   "name": "python",
   "nbconvert_exporter": "python",
   "pygments_lexer": "ipython3",
   "version": "3.7.4"
  }
 },
 "nbformat": 4,
 "nbformat_minor": 2
}
